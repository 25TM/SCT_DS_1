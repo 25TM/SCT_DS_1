{
 "cells": [
  {
   "cell_type": "code",
   "execution_count": null,
   "id": "f7d7a501",
   "metadata": {},
   "outputs": [],
   "source": [
    "import pandas as pd\n",
    "import matplotlib.pyplot as plt\n",
    "import numpy as np"
   ]
  },
  {
   "cell_type": "code",
   "execution_count": null,
   "id": "edcfee82",
   "metadata": {},
   "outputs": [],
   "source": [
    "df = pd.read_csv(r'C:\\Users\\manoy\\Downloads\\PRODIGY_DS_01-Intern-Pinaki-Jupyter-Lab-TASK-01-main\\PRODIGY_DS_01-Intern-Pinaki-Jupyter-Lab-TASK-01-main\\Pinaki_WorldBank_Population\\API_SP.POP.TOTL_DS2_en_csv_v2_5871594.csv')"
   ]
  },
  {
   "cell_type": "code",
   "execution_count": null,
   "id": "5506264b",
   "metadata": {},
   "outputs": [],
   "source": [
    " df"
   ]
  },
  {
   "cell_type": "code",
   "execution_count": null,
   "id": "aab7f8e4",
   "metadata": {},
   "outputs": [],
   "source": []
  }
 ],
 "metadata": {
  "kernelspec": {
   "display_name": "Python 3 (ipykernel)",
   "language": "python",
   "name": "python3"
  },
  "language_info": {
   "codemirror_mode": {
    "name": "ipython",
    "version": 3
   },
   "file_extension": ".py",
   "mimetype": "text/x-python",
   "name": "python",
   "nbconvert_exporter": "python",
   "pygments_lexer": "ipython3",
   "version": "3.9.18"
  }
 },
 "nbformat": 4,
 "nbformat_minor": 5
}
